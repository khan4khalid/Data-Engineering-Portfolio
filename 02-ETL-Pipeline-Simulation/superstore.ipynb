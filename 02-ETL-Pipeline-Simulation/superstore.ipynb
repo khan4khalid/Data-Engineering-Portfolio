{
  "nbformat": 4,
  "nbformat_minor": 0,
  "metadata": {
    "colab": {
      "provenance": []
    },
    "kernelspec": {
      "name": "python3",
      "display_name": "Python 3"
    },
    "language_info": {
      "name": "python"
    }
  },
  "cells": [
    {
      "cell_type": "code",
      "execution_count": null,
      "metadata": {
        "colab": {
          "base_uri": "https://localhost:8080/"
        },
        "id": "e7a72YkvMDnF",
        "outputId": "537214b0-2cc9-43ce-ea11-b74795c159c6"
      },
      "outputs": [
        {
          "output_type": "stream",
          "name": "stdout",
          "text": [
            "Original Data (First 5 Rows):\n",
            "   Row ID        Order ID  Order Date   Ship Date       Ship Mode Customer ID  \\\n",
            "0       1  CA-2017-152156  08/11/2017  11/11/2017    Second Class    CG-12520   \n",
            "1       2  CA-2017-152156  08/11/2017  11/11/2017    Second Class    CG-12520   \n",
            "2       3  CA-2017-138688  12/06/2017  16/06/2017    Second Class    DV-13045   \n",
            "3       4  US-2016-108966  11/10/2016  18/10/2016  Standard Class    SO-20335   \n",
            "4       5  US-2016-108966  11/10/2016  18/10/2016  Standard Class    SO-20335   \n",
            "\n",
            "     Customer Name    Segment        Country             City       State  \\\n",
            "0      Claire Gute   Consumer  United States        Henderson    Kentucky   \n",
            "1      Claire Gute   Consumer  United States        Henderson    Kentucky   \n",
            "2  Darrin Van Huff  Corporate  United States      Los Angeles  California   \n",
            "3   Sean O'Donnell   Consumer  United States  Fort Lauderdale     Florida   \n",
            "4   Sean O'Donnell   Consumer  United States  Fort Lauderdale     Florida   \n",
            "\n",
            "   Postal Code Region       Product ID         Category Sub-Category  \\\n",
            "0      42420.0  South  FUR-BO-10001798        Furniture    Bookcases   \n",
            "1      42420.0  South  FUR-CH-10000454        Furniture       Chairs   \n",
            "2      90036.0   West  OFF-LA-10000240  Office Supplies       Labels   \n",
            "3      33311.0  South  FUR-TA-10000577        Furniture       Tables   \n",
            "4      33311.0  South  OFF-ST-10000760  Office Supplies      Storage   \n",
            "\n",
            "                                        Product Name     Sales  \n",
            "0                  Bush Somerset Collection Bookcase  261.9600  \n",
            "1  Hon Deluxe Fabric Upholstered Stacking Chairs,...  731.9400  \n",
            "2  Self-Adhesive Address Labels for Typewriters b...   14.6200  \n",
            "3      Bretford CR4500 Series Slim Rectangular Table  957.5775  \n",
            "4                     Eldon Fold 'N Roll Cart System   22.3680  \n",
            "\n",
            "Original Data Info:\n",
            "<class 'pandas.core.frame.DataFrame'>\n",
            "RangeIndex: 9800 entries, 0 to 9799\n",
            "Data columns (total 18 columns):\n",
            " #   Column         Non-Null Count  Dtype  \n",
            "---  ------         --------------  -----  \n",
            " 0   Row ID         9800 non-null   int64  \n",
            " 1   Order ID       9800 non-null   object \n",
            " 2   Order Date     9800 non-null   object \n",
            " 3   Ship Date      9800 non-null   object \n",
            " 4   Ship Mode      9800 non-null   object \n",
            " 5   Customer ID    9800 non-null   object \n",
            " 6   Customer Name  9800 non-null   object \n",
            " 7   Segment        9800 non-null   object \n",
            " 8   Country        9800 non-null   object \n",
            " 9   City           9800 non-null   object \n",
            " 10  State          9800 non-null   object \n",
            " 11  Postal Code    9789 non-null   float64\n",
            " 12  Region         9800 non-null   object \n",
            " 13  Product ID     9800 non-null   object \n",
            " 14  Category       9800 non-null   object \n",
            " 15  Sub-Category   9800 non-null   object \n",
            " 16  Product Name   9800 non-null   object \n",
            " 17  Sales          9800 non-null   float64\n",
            "dtypes: float64(2), int64(1), object(15)\n",
            "memory usage: 1.3+ MB\n"
          ]
        }
      ],
      "source": [
        "import pandas as pd\n",
        "import sqlite3\n",
        "\n",
        "# --- EXTRACT ---\n",
        "# Load the data using 'latin1' encoding to handle special characters\n",
        "df = pd.read_csv('Superstore.csv', encoding='latin1')\n",
        "\n",
        "# --- INSPECT ---\n",
        "# See the first 5 rows\n",
        "print(\"Original Data (First 5 Rows):\")\n",
        "print(df.head())\n",
        "\n",
        "# Get info on columns and data types\n",
        "print(\"\\nOriginal Data Info:\")\n",
        "df.info()"
      ]
    },
    {
      "cell_type": "code",
      "source": [
        "# 2. Fix Data Types (Dates)\n",
        "# Add format='mixed' to handle both MM/DD/YYYY and DD/MM/YYYY\n",
        "df['order_date'] = pd.to_datetime(df['order_date'], format='mixed')\n",
        "df['ship_date'] = pd.to_datetime(df['ship_date'], format='mixed')\n",
        "\n",
        "# 3. Handle Missing/Wrong Data (Postal Code)\n",
        "# Fill missing values (NaN) with '00000'\n",
        "df['postal_code'] = df['postal_code'].fillna('00000')\n",
        "# Convert to integer (to remove .0) and then to string\n",
        "df['postal_code'] = df['postal_code'].astype(int).astype(str)\n",
        "\n",
        "# 4. Fix sub-category column name\n",
        "df.rename(columns={'sub-category': 'subcategory'}, inplace=True)\n",
        "\n",
        "# --- Final Check ---\n",
        "print(\"Transformed Data Info:\")\n",
        "df.info()\n",
        "\n",
        "print(\"\\nTransformed Data (First 5 Rows):\")\n",
        "print(df.head())"
      ],
      "metadata": {
        "colab": {
          "base_uri": "https://localhost:8080/"
        },
        "id": "dUYVhu1qNWCF",
        "outputId": "d20712a7-abca-46f4-bb04-732339e63a3d"
      },
      "execution_count": null,
      "outputs": [
        {
          "output_type": "stream",
          "name": "stdout",
          "text": [
            "Transformed Data Info:\n",
            "<class 'pandas.core.frame.DataFrame'>\n",
            "RangeIndex: 9800 entries, 0 to 9799\n",
            "Data columns (total 18 columns):\n",
            " #   Column         Non-Null Count  Dtype         \n",
            "---  ------         --------------  -----         \n",
            " 0   row_id         9800 non-null   int64         \n",
            " 1   order_id       9800 non-null   object        \n",
            " 2   order_date     9800 non-null   datetime64[ns]\n",
            " 3   ship_date      9800 non-null   datetime64[ns]\n",
            " 4   ship_mode      9800 non-null   object        \n",
            " 5   customer_id    9800 non-null   object        \n",
            " 6   customer_name  9800 non-null   object        \n",
            " 7   segment        9800 non-null   object        \n",
            " 8   country        9800 non-null   object        \n",
            " 9   city           9800 non-null   object        \n",
            " 10  state          9800 non-null   object        \n",
            " 11  postal_code    9800 non-null   object        \n",
            " 12  region         9800 non-null   object        \n",
            " 13  product_id     9800 non-null   object        \n",
            " 14  category       9800 non-null   object        \n",
            " 15  subcategory    9800 non-null   object        \n",
            " 16  product_name   9800 non-null   object        \n",
            " 17  sales          9800 non-null   float64       \n",
            "dtypes: datetime64[ns](2), float64(1), int64(1), object(14)\n",
            "memory usage: 1.3+ MB\n",
            "\n",
            "Transformed Data (First 5 Rows):\n",
            "   row_id        order_id order_date  ship_date       ship_mode customer_id  \\\n",
            "0       1  CA-2017-152156 2017-08-11 2017-11-11    Second Class    CG-12520   \n",
            "1       2  CA-2017-152156 2017-08-11 2017-11-11    Second Class    CG-12520   \n",
            "2       3  CA-2017-138688 2017-12-06 2017-06-16    Second Class    DV-13045   \n",
            "3       4  US-2016-108966 2016-11-10 2016-10-18  Standard Class    SO-20335   \n",
            "4       5  US-2016-108966 2016-11-10 2016-10-18  Standard Class    SO-20335   \n",
            "\n",
            "     customer_name    segment        country             city       state  \\\n",
            "0      Claire Gute   Consumer  United States        Henderson    Kentucky   \n",
            "1      Claire Gute   Consumer  United States        Henderson    Kentucky   \n",
            "2  Darrin Van Huff  Corporate  United States      Los Angeles  California   \n",
            "3   Sean O'Donnell   Consumer  United States  Fort Lauderdale     Florida   \n",
            "4   Sean O'Donnell   Consumer  United States  Fort Lauderdale     Florida   \n",
            "\n",
            "  postal_code region       product_id         category subcategory  \\\n",
            "0       42420  South  FUR-BO-10001798        Furniture   Bookcases   \n",
            "1       42420  South  FUR-CH-10000454        Furniture      Chairs   \n",
            "2       90036   West  OFF-LA-10000240  Office Supplies      Labels   \n",
            "3       33311  South  FUR-TA-10000577        Furniture      Tables   \n",
            "4       33311  South  OFF-ST-10000760  Office Supplies     Storage   \n",
            "\n",
            "                                        product_name     sales  \n",
            "0                  Bush Somerset Collection Bookcase  261.9600  \n",
            "1  Hon Deluxe Fabric Upholstered Stacking Chairs,...  731.9400  \n",
            "2  Self-Adhesive Address Labels for Typewriters b...   14.6200  \n",
            "3      Bretford CR4500 Series Slim Rectangular Table  957.5775  \n",
            "4                     Eldon Fold 'N Roll Cart System   22.3680  \n"
          ]
        }
      ]
    },
    {
      "cell_type": "code",
      "source": [
        "# --- LOAD ---\n",
        "\n",
        "# 1. Create a connection to the SQLite database\n",
        "# This will create a new file named 'superstore.db'\n",
        "conn = sqlite3.connect('superstore.db')\n",
        "\n",
        "# 2. Load the DataFrame into a SQL table\n",
        "# We'll name the table 'orders'\n",
        "# if_exists='replace' means it will overwrite the table if it already exists\n",
        "df.to_sql('orders', conn, if_exists='replace', index=False)\n",
        "\n",
        "# 3. Close the connection\n",
        "conn.close()\n",
        "\n",
        "print(\"Project 2 Complete: Data successfully extracted, transformed, and loaded into 'superstore.db'\")"
      ],
      "metadata": {
        "colab": {
          "base_uri": "https://localhost:8080/"
        },
        "id": "cSdNOyGdNW-8",
        "outputId": "a708973f-d7db-44a4-9ef3-b5d753e5c245"
      },
      "execution_count": null,
      "outputs": [
        {
          "output_type": "stream",
          "name": "stdout",
          "text": [
            "Project 2 Complete: Data successfully extracted, transformed, and loaded into 'superstore.db'\n"
          ]
        }
      ]
    }
  ]
}